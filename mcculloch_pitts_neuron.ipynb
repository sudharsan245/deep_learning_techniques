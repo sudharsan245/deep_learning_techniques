{
 "cells": [
  {
   "cell_type": "code",
   "execution_count": 1,
   "id": "f6ec74f7",
   "metadata": {},
   "outputs": [
    {
     "name": "stdout",
     "output_type": "stream",
     "text": [
      "AND\n",
      "(0, 0) -> 0\n",
      "(0, 1) -> 0\n",
      "(1, 0) -> 0\n",
      "(1, 1) -> 1\n",
      "\n",
      "OR\n",
      "(0, 0) -> 0\n",
      "(0, 1) -> 1\n",
      "(1, 0) -> 1\n",
      "(1, 1) -> 1\n",
      "\n",
      "NOT\n",
      "0 -> 1\n",
      "1 -> 0\n",
      "\n",
      "NOR\n",
      "(0, 0) -> 1\n",
      "(0, 1) -> 0\n",
      "(1, 0) -> 0\n",
      "(1, 1) -> 0\n",
      "\n",
      "XOR\n",
      "(0, 0) -> 0\n",
      "(0, 1) -> 1\n",
      "(1, 0) -> 1\n",
      "(1, 1) -> 0\n"
     ]
    }
   ],
   "source": [
    "def mcp_neuron(inputs, weights, threshold): \n",
    "    summation = sum(i * w for i, w in zip(inputs, weights)) \n",
    "    return 1 if summation >= threshold else 0 \n",
    "# AND Gate \n",
    "def AND(x1, x2): \n",
    "    return mcp_neuron([x1, x2], [1, 1], 2) \n",
    "# OR Gate \n",
    "def OR(x1, x2): \n",
    "    return mcp_neuron([x1, x2], [1, 1], 1) \n",
    "# NOT Gate \n",
    "def NOT(x1): \n",
    "    return mcp_neuron([x1], [-1], 0) \n",
    "# NOR Gate \n",
    "def NOR(x1, x2): \n",
    "    return mcp_neuron([x1, x2], [-1, -1], 0) \n",
    "# XOR Gate (using hard-coded logic) \n",
    "def XOR(x1, x2): \n",
    "    return (x1 ^ x2)  # XOR can't be represented by single-layer MCP \n",
    "# Testing \n",
    "print(\"AND\") \n",
    "for x in [(0,0), (0,1), (1,0), (1,1)]: \n",
    "    print(f\"{x} -> {AND(*x)}\") \n",
    "print(\"\\nOR\") \n",
    "for x in [(0,0), (0,1), (1,0), (1,1)]: \n",
    "    print(f\"{x} -> {OR(*x)}\") \n",
    "print(\"\\nNOT\") \n",
    "for x in [0, 1]: \n",
    "    print(f\"{x} -> {NOT(x)}\") \n",
    "print(\"\\nNOR\") \n",
    "for x in [(0,0), (0,1), (1,0), (1,1)]: \n",
    "    print(f\"{x} -> {NOR(*x)}\") \n",
    "print(\"\\nXOR\") \n",
    "for x in [(0,0), (0,1), (1,0), (1,1)]: \n",
    "    print(f\"{x} -> {XOR(*x)}\") "
   ]
  }
 ],
 "metadata": {
  "kernelspec": {
   "display_name": "Python 3",
   "language": "python",
   "name": "python3"
  },
  "language_info": {
   "codemirror_mode": {
    "name": "ipython",
    "version": 3
   },
   "file_extension": ".py",
   "mimetype": "text/x-python",
   "name": "python",
   "nbconvert_exporter": "python",
   "pygments_lexer": "ipython3",
   "version": "3.12.10"
  }
 },
 "nbformat": 4,
 "nbformat_minor": 5
}
